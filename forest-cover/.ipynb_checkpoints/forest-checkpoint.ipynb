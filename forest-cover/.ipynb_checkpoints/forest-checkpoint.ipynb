{
 "metadata": {
  "name": "",
  "signature": "sha256:ecaeccdcba3f537287b0cfae0b1961398998b45e6aa1de994279487308776d4f"
 },
 "nbformat": 3,
 "nbformat_minor": 0,
 "worksheets": [
  {
   "cells": [
    {
     "cell_type": "code",
     "collapsed": false,
     "input": [
      "import pandas as pd\n",
      "from sklearn.ensemble import GradientBoostingClassifier\n",
      "from sklearn import cross_validation\n",
      "from sklearn.svm import LinearSVC\n",
      "trainDf = pd.read_csv(\"train.csv\", index_col=0)\n",
      "testDf = pd.read_csv(\"test.csv\", index_col=0)\n",
      "%pylab inline"
     ],
     "language": "python",
     "metadata": {},
     "outputs": [
      {
       "output_type": "stream",
       "stream": "stdout",
       "text": [
        "Populating the interactive namespace from numpy and matplotlib\n"
       ]
      },
      {
       "output_type": "stream",
       "stream": "stderr",
       "text": [
        "WARNING: pylab import has clobbered these variables: ['mod']\n",
        "`%matplotlib` prevents importing * from pylab and numpy\n"
       ]
      }
     ],
     "prompt_number": 64
    },
    {
     "cell_type": "code",
     "collapsed": false,
     "input": [
      "X = trainDf.ix[:, :-1].values\n",
      "y = trainDf.ix[:, -1].values\n",
      "testX = testDf.values\n",
      "mod = GradientBoostingClassifier()\n",
      "clf = LinearSVC()\n",
      "scores1 = cross_validation.cross_val_score(mod, X, y, cv=5, n_jobs=-1)\n",
      "scores2 = cross_validation.cross_val_score(clf, X, y, cv=5, n_jobs=-1)"
     ],
     "language": "python",
     "metadata": {},
     "outputs": [],
     "prompt_number": 62
    },
    {
     "cell_type": "code",
     "collapsed": false,
     "input": [
      "mod.fit(X, y)\n",
      "testDf['Cover_Type'] = mod.predict(testX)\n"
     ],
     "language": "python",
     "metadata": {},
     "outputs": [],
     "prompt_number": 52
    },
    {
     "cell_type": "code",
     "collapsed": false,
     "input": [
      "testDf.Cover_Type.to_csv(\"submit.csv\", header=True)"
     ],
     "language": "python",
     "metadata": {},
     "outputs": [],
     "prompt_number": 57
    },
    {
     "cell_type": "code",
     "collapsed": false,
     "input": [
      "scores"
     ],
     "language": "python",
     "metadata": {},
     "outputs": [
      {
       "metadata": {},
       "output_type": "pyout",
       "prompt_number": 63,
       "text": [
        "array([ 0.68849206,  0.67261905,  0.72486772,  0.7417328 ,  0.7853836 ])"
       ]
      }
     ],
     "prompt_number": 63
    }
   ],
   "metadata": {}
  }
 ]
}